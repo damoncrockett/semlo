{
 "cells": [
  {
   "cell_type": "code",
   "execution_count": 207,
   "metadata": {},
   "outputs": [],
   "source": [
    "import pandas as pd\n",
    "import json"
   ]
  },
  {
   "cell_type": "code",
   "execution_count": 208,
   "metadata": {},
   "outputs": [],
   "source": [
    "jfile = '/Users/dc987/Desktop/data/semantic/attributions.json'"
   ]
  },
  {
   "cell_type": "code",
   "execution_count": 209,
   "metadata": {},
   "outputs": [],
   "source": [
    "with open(jfile) as f:\n",
    "    data = json.load(f)"
   ]
  },
  {
   "cell_type": "code",
   "execution_count": 210,
   "metadata": {},
   "outputs": [
    {
     "data": {
      "text/plain": [
       "{'basefile': 'PhotographyAnnual_51_249.txt',\n",
       " 'magstring': 'PhotographyAnnual_1951',\n",
       " 'localpath': '/Users/dc987/Desktop/data/semantic/Sorted CZUR Scans Plus OCR/PhotographyAnnual_1951/PhotographyAnnual_51_249.txt',\n",
       " 'man': 'gevaert',\n",
       " 'bran': 'gevaluxe velours',\n",
       " 'words': 'the ultimate in enlarging papers, pictures you can feel as well as see'}"
      ]
     },
     "execution_count": 210,
     "metadata": {},
     "output_type": "execute_result"
    }
   ],
   "source": [
    "data[0]"
   ]
  },
  {
   "cell_type": "code",
   "execution_count": 211,
   "metadata": {},
   "outputs": [],
   "source": [
    "df = pd.DataFrame()"
   ]
  },
  {
   "cell_type": "code",
   "execution_count": 212,
   "metadata": {},
   "outputs": [],
   "source": [
    "df['basefile'] = [item['basefile'] for item in data]\n",
    "df['magstring'] = [item['magstring'] for item in data]\n",
    "df['localpath'] = [item['localpath'] for item in data]\n",
    "df['man'] = [item['man'] for item in data]\n",
    "df['bran'] = [item['bran'] for item in data]\n",
    "df['words'] = [item['words'] for item in data]"
   ]
  },
  {
   "cell_type": "code",
   "execution_count": 213,
   "metadata": {},
   "outputs": [],
   "source": [
    "df['basefile'] = [item[:-3] + 'jpg' for item in df.basefile]\n",
    "df['localpath'] = [item[:-3] + 'jpg' for item in df.localpath]"
   ]
  },
  {
   "cell_type": "code",
   "execution_count": 214,
   "metadata": {},
   "outputs": [],
   "source": [
    "df['localpath'] = ['/'.join(item.split('/')[:6]) + '/' + item.split('/')[6][:-9] + '/' + '/'.join(item.split('/')[7:]) for item in df.localpath]"
   ]
  },
  {
   "cell_type": "code",
   "execution_count": 215,
   "metadata": {},
   "outputs": [],
   "source": [
    "import sys\n",
    "sys.path.append('/Users/dc987/ivpytest/src')\n",
    "from ivpy import *"
   ]
  },
  {
   "cell_type": "code",
   "execution_count": 216,
   "metadata": {},
   "outputs": [],
   "source": [
    "attach(df,'localpath')"
   ]
  },
  {
   "cell_type": "code",
   "execution_count": 217,
   "metadata": {
    "scrolled": false
   },
   "outputs": [],
   "source": [
    "#montage()"
   ]
  },
  {
   "cell_type": "code",
   "execution_count": 218,
   "metadata": {},
   "outputs": [
    {
     "data": {
      "text/plain": [
       "79"
      ]
     },
     "execution_count": 218,
     "metadata": {},
     "output_type": "execute_result"
    }
   ],
   "source": [
    "len(df.localpath.unique())"
   ]
  },
  {
   "cell_type": "code",
   "execution_count": 219,
   "metadata": {},
   "outputs": [],
   "source": [
    "HOSTPATH = 'http://localhost:8888/'"
   ]
  },
  {
   "cell_type": "code",
   "execution_count": 220,
   "metadata": {},
   "outputs": [],
   "source": [
    "df['localhostpath'] = [HOSTPATH + 'scans/' + item for item in df.basefile]"
   ]
  },
  {
   "cell_type": "code",
   "execution_count": 221,
   "metadata": {},
   "outputs": [],
   "source": [
    "import shutil"
   ]
  },
  {
   "cell_type": "code",
   "execution_count": 222,
   "metadata": {},
   "outputs": [],
   "source": [
    "FULLHOSTPATH = '/Users/dc987/semlo/src/assets/json/scans/'"
   ]
  },
  {
   "cell_type": "code",
   "execution_count": 223,
   "metadata": {},
   "outputs": [],
   "source": [
    "#for localpath in df.localpath:\n",
    "    #shutil.copy(localpath,FULLHOSTPATH)"
   ]
  },
  {
   "cell_type": "code",
   "execution_count": 224,
   "metadata": {},
   "outputs": [],
   "source": [
    "df['mentionType'] = df.man + ' ' + df.bran"
   ]
  },
  {
   "cell_type": "code",
   "execution_count": 225,
   "metadata": {},
   "outputs": [],
   "source": [
    "mf = pd.DataFrame()"
   ]
  },
  {
   "cell_type": "code",
   "execution_count": 226,
   "metadata": {},
   "outputs": [],
   "source": [
    "mTs = []\n",
    "wordslist = []\n",
    "for mentionType in df.mentionType.unique():\n",
    "    mTs.append(mentionType)\n",
    "    tmp = list(df.words[df.mentionType==mentionType])\n",
    "    wordslist.append(tmp)\n",
    "    \n",
    "mf['mentionType'] = mTs\n",
    "mf['mentions'] = wordslist"
   ]
  },
  {
   "cell_type": "code",
   "execution_count": 227,
   "metadata": {},
   "outputs": [],
   "source": [
    "mf = mf.sort_values(by='mentionType')"
   ]
  },
  {
   "cell_type": "code",
   "execution_count": 228,
   "metadata": {},
   "outputs": [],
   "source": [
    "mf = mf.reset_index(drop=True)"
   ]
  },
  {
   "cell_type": "code",
   "execution_count": 229,
   "metadata": {},
   "outputs": [],
   "source": [
    "from ivpy.plottools import _gridcoords"
   ]
  },
  {
   "cell_type": "code",
   "execution_count": 230,
   "metadata": {},
   "outputs": [],
   "source": [
    "mf['x'] = [item[0] for item in _gridcoords(len(mf),5,1)[2]]\n",
    "mf['y'] = [item[1] for item in _gridcoords(len(mf),5,1)[2]]"
   ]
  },
  {
   "cell_type": "markdown",
   "metadata": {},
   "source": [
    "### JSON"
   ]
  },
  {
   "cell_type": "code",
   "execution_count": 234,
   "metadata": {},
   "outputs": [],
   "source": [
    "def row2jso(mf,i):\n",
    "    row = mf.loc[i]\n",
    "    jso = {}\n",
    "    jso['mentionType'] = row.mentionType\n",
    "    jso['x'] = int(row.x)\n",
    "    jso['y'] = int(row.y)\n",
    "\n",
    "    return jso\n",
    "\n",
    "jsonArray = [row2jso(mf, i) for i in mf.index]\n",
    "\n",
    "JSONDIR = '/Users/dc987/semlo/src/assets/json/'\n",
    "\n",
    "with open(JSONDIR+'mentionType.json','w') as outfile:\n",
    "    json.dump(jsonArray,outfile)"
   ]
  },
  {
   "cell_type": "code",
   "execution_count": null,
   "metadata": {},
   "outputs": [],
   "source": []
  }
 ],
 "metadata": {
  "kernelspec": {
   "display_name": "Python 3",
   "language": "python",
   "name": "python3"
  },
  "language_info": {
   "codemirror_mode": {
    "name": "ipython",
    "version": 3
   },
   "file_extension": ".py",
   "mimetype": "text/x-python",
   "name": "python",
   "nbconvert_exporter": "python",
   "pygments_lexer": "ipython3",
   "version": "3.6.5"
  }
 },
 "nbformat": 4,
 "nbformat_minor": 2
}
