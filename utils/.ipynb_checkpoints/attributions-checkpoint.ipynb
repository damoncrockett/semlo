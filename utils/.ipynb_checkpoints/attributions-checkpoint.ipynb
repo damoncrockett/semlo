{
 "cells": [
  {
   "cell_type": "code",
   "execution_count": 97,
   "metadata": {},
   "outputs": [],
   "source": [
    "import pandas as pd\n",
    "import json"
   ]
  },
  {
   "cell_type": "code",
   "execution_count": 98,
   "metadata": {},
   "outputs": [],
   "source": [
    "jfile = '/Users/dc987/Desktop/data/semantic/attributions.json'"
   ]
  },
  {
   "cell_type": "code",
   "execution_count": 99,
   "metadata": {},
   "outputs": [],
   "source": [
    "with open(jfile) as f:\n",
    "    data = json.load(f)"
   ]
  },
  {
   "cell_type": "code",
   "execution_count": 100,
   "metadata": {},
   "outputs": [
    {
     "data": {
      "text/plain": [
       "{'basefile': 'PhotographyAnnual_51_249.txt',\n",
       " 'magstring': 'PhotographyAnnual_1951',\n",
       " 'localpath': '/Users/dc987/Desktop/data/semantic/Sorted CZUR Scans Plus OCR/PhotographyAnnual_1951/PhotographyAnnual_51_249.txt',\n",
       " 'man': 'gevaert',\n",
       " 'bran': 'gevaluxe velours',\n",
       " 'words': 'the ultimate in enlarging papers, pictures you can feel as well as see'}"
      ]
     },
     "execution_count": 100,
     "metadata": {},
     "output_type": "execute_result"
    }
   ],
   "source": [
    "data[0]"
   ]
  },
  {
   "cell_type": "code",
   "execution_count": 101,
   "metadata": {},
   "outputs": [],
   "source": [
    "df = pd.DataFrame()"
   ]
  },
  {
   "cell_type": "code",
   "execution_count": 102,
   "metadata": {},
   "outputs": [],
   "source": [
    "df['basefile'] = [item['basefile'] for item in data]\n",
    "df['magstring'] = [item['magstring'] for item in data]\n",
    "df['localpath'] = [item['localpath'] for item in data]\n",
    "df['man'] = [item['man'] for item in data]\n",
    "df['bran'] = [item['bran'] for item in data]\n",
    "df['words'] = [item['words'] for item in data]"
   ]
  },
  {
   "cell_type": "code",
   "execution_count": 103,
   "metadata": {},
   "outputs": [],
   "source": [
    "df['basefile'] = [item[:-3] + 'jpg' for item in df.basefile]\n",
    "df['localpath'] = [item[:-3] + 'jpg' for item in df.localpath]"
   ]
  },
  {
   "cell_type": "code",
   "execution_count": 104,
   "metadata": {},
   "outputs": [],
   "source": [
    "df['localpath'] = ['/'.join(item.split('/')[:6]) + '/' + item.split('/')[6][:-9] + '/' + '/'.join(item.split('/')[7:]) for item in df.localpath]"
   ]
  },
  {
   "cell_type": "code",
   "execution_count": 105,
   "metadata": {},
   "outputs": [],
   "source": [
    "import sys\n",
    "sys.path.append('/Users/dc987/ivpytest/src')\n",
    "from ivpy import *"
   ]
  },
  {
   "cell_type": "code",
   "execution_count": 106,
   "metadata": {},
   "outputs": [],
   "source": [
    "attach(df,'localpath')"
   ]
  },
  {
   "cell_type": "code",
   "execution_count": 107,
   "metadata": {
    "scrolled": false
   },
   "outputs": [],
   "source": [
    "#montage()"
   ]
  },
  {
   "cell_type": "code",
   "execution_count": 108,
   "metadata": {},
   "outputs": [
    {
     "data": {
      "text/plain": [
       "79"
      ]
     },
     "execution_count": 108,
     "metadata": {},
     "output_type": "execute_result"
    }
   ],
   "source": [
    "len(df.localpath.unique())"
   ]
  },
  {
   "cell_type": "code",
   "execution_count": 109,
   "metadata": {},
   "outputs": [],
   "source": [
    "HOSTPATH = 'http://localhost:8888/'"
   ]
  },
  {
   "cell_type": "code",
   "execution_count": 110,
   "metadata": {},
   "outputs": [],
   "source": [
    "df['localhostpath'] = [HOSTPATH + 'scans/' + item for item in df.basefile]"
   ]
  },
  {
   "cell_type": "code",
   "execution_count": 111,
   "metadata": {},
   "outputs": [],
   "source": [
    "import shutil"
   ]
  },
  {
   "cell_type": "code",
   "execution_count": 112,
   "metadata": {},
   "outputs": [],
   "source": [
    "FULLHOSTPATH = '/Users/dc987/semlo/src/assets/json/scans/'"
   ]
  },
  {
   "cell_type": "code",
   "execution_count": 113,
   "metadata": {},
   "outputs": [],
   "source": [
    "#for localpath in df.localpath:\n",
    "    #shutil.copy(localpath,FULLHOSTPATH)"
   ]
  },
  {
   "cell_type": "code",
   "execution_count": 114,
   "metadata": {},
   "outputs": [],
   "source": [
    "df['mentionType'] = df.man + ' ' + df.bran"
   ]
  },
  {
   "cell_type": "code",
   "execution_count": 115,
   "metadata": {},
   "outputs": [],
   "source": [
    "mf = pd.DataFrame()"
   ]
  },
  {
   "cell_type": "code",
   "execution_count": 116,
   "metadata": {},
   "outputs": [],
   "source": [
    "mTs = []\n",
    "wordslist = []\n",
    "for mentionType in df.mentionType.unique():\n",
    "    mTs.append(mentionType)\n",
    "    tmp = list(df.words[df.mentionType==mentionType])\n",
    "    wordslist.append(tmp)\n",
    "    \n",
    "mf['mentionType'] = mTs\n",
    "mf['mentions'] = wordslist"
   ]
  },
  {
   "cell_type": "code",
   "execution_count": 117,
   "metadata": {},
   "outputs": [],
   "source": [
    "mf = mf.sort_values(by='mentionType')"
   ]
  },
  {
   "cell_type": "code",
   "execution_count": 118,
   "metadata": {},
   "outputs": [],
   "source": [
    "mf = mf.reset_index()"
   ]
  },
  {
   "cell_type": "code",
   "execution_count": 119,
   "metadata": {},
   "outputs": [],
   "source": [
    "mf.rename(columns={\"index\":\"idx\"},inplace=True)"
   ]
  },
  {
   "cell_type": "code",
   "execution_count": 120,
   "metadata": {},
   "outputs": [],
   "source": [
    "from ivpy.plottools import _gridcoords"
   ]
  },
  {
   "cell_type": "code",
   "execution_count": 121,
   "metadata": {},
   "outputs": [],
   "source": [
    "mf['x'] = [item[0] for item in _gridcoords(len(mf),5,1)[2]]\n",
    "mf['y'] = [item[1] for item in _gridcoords(len(mf),5,1)[2]]"
   ]
  },
  {
   "cell_type": "markdown",
   "metadata": {},
   "source": [
    "### pstatus"
   ]
  },
  {
   "cell_type": "code",
   "execution_count": 122,
   "metadata": {},
   "outputs": [],
   "source": [
    "DIR = '/Users/dc987/Desktop/data/phenome/'\n",
    "filepath = 'export_11_02_20.csv'\n",
    "fullpath = DIR + filepath"
   ]
  },
  {
   "cell_type": "code",
   "execution_count": 123,
   "metadata": {},
   "outputs": [],
   "source": [
    "df = pd.read_csv(fullpath,encoding='latin')\n",
    "df = df.fillna('')\n",
    "df['fullcatalog'] = [str(df['Catalog Number'].loc[i]) + df['Secondary Catalog Number'].loc[i] for i in df.index]"
   ]
  },
  {
   "cell_type": "code",
   "execution_count": 124,
   "metadata": {},
   "outputs": [],
   "source": [
    "cols = [\n",
    "    'fullcatalog',\n",
    "    'Manufacturer',\n",
    "    'Brand',\n",
    "    'Year',\n",
    "    'Format',\n",
    "    'Sampled',\n",
    "    'Thickness?',\n",
    "    'Gloss?',\n",
    "    'Color?',\n",
    "    'Texture?',\n",
    "    'T1',\n",
    "    'b*-recto',\n",
    "    'SurfaceDesignation2'\n",
    "]"
   ]
  },
  {
   "cell_type": "code",
   "execution_count": 125,
   "metadata": {},
   "outputs": [],
   "source": [
    "measured_cols = [\n",
    "    'Thickness?',\n",
    "    'Gloss?',\n",
    "    'Color?',\n",
    "    'Texture?',\n",
    "]"
   ]
  },
  {
   "cell_type": "code",
   "execution_count": 126,
   "metadata": {},
   "outputs": [],
   "source": [
    "df = df[cols]"
   ]
  },
  {
   "cell_type": "code",
   "execution_count": 127,
   "metadata": {},
   "outputs": [],
   "source": [
    "df['surface'] = df.Manufacturer + ' ' + df.Brand + ' ' +  df.SurfaceDesignation2"
   ]
  },
  {
   "cell_type": "code",
   "execution_count": 128,
   "metadata": {},
   "outputs": [],
   "source": [
    "from fuzzywuzzy import fuzz"
   ]
  },
  {
   "cell_type": "code",
   "execution_count": 129,
   "metadata": {},
   "outputs": [
    {
     "data": {
      "text/plain": [
       "93"
      ]
     },
     "execution_count": 129,
     "metadata": {},
     "output_type": "execute_result"
    }
   ],
   "source": [
    "fuzz.ratio('dupont varigam A','dupont varigam' )"
   ]
  },
  {
   "cell_type": "code",
   "execution_count": 130,
   "metadata": {
    "scrolled": true
   },
   "outputs": [],
   "source": [
    "pstatuses = []\n",
    "for i in mf.index:\n",
    "    mentionType = mf.mentionType.loc[i]\n",
    "    \n",
    "    rs = 0\n",
    "    ms = 0\n",
    "    \n",
    "    for j in df.index:\n",
    "        surface = df.surface.loc[j]\n",
    "        r = fuzz.ratio(mentionType.lower().rstrip(' '),surface.lower().rstrip(' '))\n",
    "        if r > 98:\n",
    "            rs = 1\n",
    "            if any([df[col].loc[j]>0 for col in measured_cols]):\n",
    "                ms = 1\n",
    "                \n",
    "    if ms==1:\n",
    "        pstatuses.append('pmeasured')\n",
    "    elif ms!=1:\n",
    "        if rs==1:\n",
    "            pstatuses.append('pnotmeasured')\n",
    "        elif rs!=1:\n",
    "            pstatuses.append('notp')\n",
    "            \n",
    "mf['pstatus'] = pstatuses"
   ]
  },
  {
   "cell_type": "markdown",
   "metadata": {},
   "source": [
    "### JSON"
   ]
  },
  {
   "cell_type": "code",
   "execution_count": 131,
   "metadata": {},
   "outputs": [],
   "source": [
    "def row2jso(mf,i):\n",
    "    row = mf.loc[i]\n",
    "    jso = {}\n",
    "    jso['idx'] = int(row.idx)\n",
    "    jso['mentionType'] = row.mentionType\n",
    "    jso['pstatus'] = row.pstatus\n",
    "    jso['x'] = int(row.x)\n",
    "    jso['y'] = int(row.y)\n",
    "\n",
    "    return jso"
   ]
  },
  {
   "cell_type": "code",
   "execution_count": 132,
   "metadata": {},
   "outputs": [],
   "source": [
    "pmf = mf.sort_values(['pstatus','mentionType'])\n",
    "pmf['x'] = [item[0] for item in _gridcoords(len(pmf),5,1)[2]]\n",
    "pmf['y'] = [item[1] for item in _gridcoords(len(pmf),5,1)[2]]\n",
    "pmf = pmf.sort_values('mentionType')"
   ]
  },
  {
   "cell_type": "code",
   "execution_count": 133,
   "metadata": {},
   "outputs": [
    {
     "data": {
      "text/html": [
       "<div>\n",
       "<style scoped>\n",
       "    .dataframe tbody tr th:only-of-type {\n",
       "        vertical-align: middle;\n",
       "    }\n",
       "\n",
       "    .dataframe tbody tr th {\n",
       "        vertical-align: top;\n",
       "    }\n",
       "\n",
       "    .dataframe thead th {\n",
       "        text-align: right;\n",
       "    }\n",
       "</style>\n",
       "<table border=\"1\" class=\"dataframe\">\n",
       "  <thead>\n",
       "    <tr style=\"text-align: right;\">\n",
       "      <th></th>\n",
       "      <th>idx</th>\n",
       "      <th>mentionType</th>\n",
       "      <th>mentions</th>\n",
       "      <th>x</th>\n",
       "      <th>y</th>\n",
       "      <th>pstatus</th>\n",
       "    </tr>\n",
       "  </thead>\n",
       "  <tbody>\n",
       "    <tr>\n",
       "      <th>0</th>\n",
       "      <td>31</td>\n",
       "      <td>anken ebony</td>\n",
       "      <td>[bromide, enlarging, fast, cold tones]</td>\n",
       "      <td>0</td>\n",
       "      <td>0</td>\n",
       "      <td>notp</td>\n",
       "    </tr>\n",
       "    <tr>\n",
       "      <th>1</th>\n",
       "      <td>30</td>\n",
       "      <td>anken sabletone</td>\n",
       "      <td>[chlorobromide, enlarging, slow, warm tones, s...</td>\n",
       "      <td>1</td>\n",
       "      <td>0</td>\n",
       "      <td>notp</td>\n",
       "    </tr>\n",
       "    <tr>\n",
       "      <th>2</th>\n",
       "      <td>36</td>\n",
       "      <td>ansco brovira</td>\n",
       "      <td>[bromide, enlarging, fast, pictorial, reproduc...</td>\n",
       "      <td>2</td>\n",
       "      <td>0</td>\n",
       "      <td>pmeasured</td>\n",
       "    </tr>\n",
       "    <tr>\n",
       "      <th>3</th>\n",
       "      <td>32</td>\n",
       "      <td>ansco convira</td>\n",
       "      <td>[chloride, contact, normal speed, glossy, velv...</td>\n",
       "      <td>3</td>\n",
       "      <td>0</td>\n",
       "      <td>pmeasured</td>\n",
       "    </tr>\n",
       "    <tr>\n",
       "      <th>4</th>\n",
       "      <td>33</td>\n",
       "      <td>ansco cykon</td>\n",
       "      <td>[chloride, contact, normal speed, portraits, c...</td>\n",
       "      <td>4</td>\n",
       "      <td>0</td>\n",
       "      <td>pmeasured</td>\n",
       "    </tr>\n",
       "  </tbody>\n",
       "</table>\n",
       "</div>"
      ],
      "text/plain": [
       "   idx      mentionType                                           mentions  x  \\\n",
       "0   31      anken ebony             [bromide, enlarging, fast, cold tones]  0   \n",
       "1   30  anken sabletone  [chlorobromide, enlarging, slow, warm tones, s...  1   \n",
       "2   36    ansco brovira  [bromide, enlarging, fast, pictorial, reproduc...  2   \n",
       "3   32    ansco convira  [chloride, contact, normal speed, glossy, velv...  3   \n",
       "4   33      ansco cykon  [chloride, contact, normal speed, portraits, c...  4   \n",
       "\n",
       "   y    pstatus  \n",
       "0  0       notp  \n",
       "1  0       notp  \n",
       "2  0  pmeasured  \n",
       "3  0  pmeasured  \n",
       "4  0  pmeasured  "
      ]
     },
     "execution_count": 133,
     "metadata": {},
     "output_type": "execute_result"
    }
   ],
   "source": [
    "mf.head()"
   ]
  },
  {
   "cell_type": "code",
   "execution_count": 134,
   "metadata": {},
   "outputs": [
    {
     "data": {
      "text/html": [
       "<div>\n",
       "<style scoped>\n",
       "    .dataframe tbody tr th:only-of-type {\n",
       "        vertical-align: middle;\n",
       "    }\n",
       "\n",
       "    .dataframe tbody tr th {\n",
       "        vertical-align: top;\n",
       "    }\n",
       "\n",
       "    .dataframe thead th {\n",
       "        text-align: right;\n",
       "    }\n",
       "</style>\n",
       "<table border=\"1\" class=\"dataframe\">\n",
       "  <thead>\n",
       "    <tr style=\"text-align: right;\">\n",
       "      <th></th>\n",
       "      <th>idx</th>\n",
       "      <th>mentionType</th>\n",
       "      <th>mentions</th>\n",
       "      <th>x</th>\n",
       "      <th>y</th>\n",
       "      <th>pstatus</th>\n",
       "    </tr>\n",
       "  </thead>\n",
       "  <tbody>\n",
       "    <tr>\n",
       "      <th>0</th>\n",
       "      <td>31</td>\n",
       "      <td>anken ebony</td>\n",
       "      <td>[bromide, enlarging, fast, cold tones]</td>\n",
       "      <td>0</td>\n",
       "      <td>0</td>\n",
       "      <td>notp</td>\n",
       "    </tr>\n",
       "    <tr>\n",
       "      <th>1</th>\n",
       "      <td>30</td>\n",
       "      <td>anken sabletone</td>\n",
       "      <td>[chlorobromide, enlarging, slow, warm tones, s...</td>\n",
       "      <td>1</td>\n",
       "      <td>0</td>\n",
       "      <td>notp</td>\n",
       "    </tr>\n",
       "    <tr>\n",
       "      <th>2</th>\n",
       "      <td>36</td>\n",
       "      <td>ansco brovira</td>\n",
       "      <td>[bromide, enlarging, fast, pictorial, reproduc...</td>\n",
       "      <td>4</td>\n",
       "      <td>12</td>\n",
       "      <td>pmeasured</td>\n",
       "    </tr>\n",
       "    <tr>\n",
       "      <th>3</th>\n",
       "      <td>32</td>\n",
       "      <td>ansco convira</td>\n",
       "      <td>[chloride, contact, normal speed, glossy, velv...</td>\n",
       "      <td>0</td>\n",
       "      <td>13</td>\n",
       "      <td>pmeasured</td>\n",
       "    </tr>\n",
       "    <tr>\n",
       "      <th>4</th>\n",
       "      <td>33</td>\n",
       "      <td>ansco cykon</td>\n",
       "      <td>[chloride, contact, normal speed, portraits, c...</td>\n",
       "      <td>1</td>\n",
       "      <td>13</td>\n",
       "      <td>pmeasured</td>\n",
       "    </tr>\n",
       "  </tbody>\n",
       "</table>\n",
       "</div>"
      ],
      "text/plain": [
       "   idx      mentionType                                           mentions  x  \\\n",
       "0   31      anken ebony             [bromide, enlarging, fast, cold tones]  0   \n",
       "1   30  anken sabletone  [chlorobromide, enlarging, slow, warm tones, s...  1   \n",
       "2   36    ansco brovira  [bromide, enlarging, fast, pictorial, reproduc...  4   \n",
       "3   32    ansco convira  [chloride, contact, normal speed, glossy, velv...  0   \n",
       "4   33      ansco cykon  [chloride, contact, normal speed, portraits, c...  1   \n",
       "\n",
       "    y    pstatus  \n",
       "0   0       notp  \n",
       "1   0       notp  \n",
       "2  12  pmeasured  \n",
       "3  13  pmeasured  \n",
       "4  13  pmeasured  "
      ]
     },
     "execution_count": 134,
     "metadata": {},
     "output_type": "execute_result"
    }
   ],
   "source": [
    "pmf.head()"
   ]
  },
  {
   "cell_type": "code",
   "execution_count": 135,
   "metadata": {},
   "outputs": [],
   "source": [
    "mtArray = [row2jso(mf, i) for i in mf.index]\n",
    "psArray = [row2jso(pmf, i) for i in pmf.index]\n",
    "\n",
    "JSONDIR = '/Users/dc987/semlo/src/assets/json/'\n",
    "\n",
    "with open(JSONDIR+'mentionType.json','w') as outfile:\n",
    "    json.dump(mtArray,outfile)\n",
    "with open(JSONDIR+'pstatus.json','w') as outfile:\n",
    "    json.dump(psArray,outfile)"
   ]
  },
  {
   "cell_type": "code",
   "execution_count": null,
   "metadata": {},
   "outputs": [],
   "source": []
  }
 ],
 "metadata": {
  "kernelspec": {
   "display_name": "Python 3",
   "language": "python",
   "name": "python3"
  },
  "language_info": {
   "codemirror_mode": {
    "name": "ipython",
    "version": 3
   },
   "file_extension": ".py",
   "mimetype": "text/x-python",
   "name": "python",
   "nbconvert_exporter": "python",
   "pygments_lexer": "ipython3",
   "version": "3.6.5"
  }
 },
 "nbformat": 4,
 "nbformat_minor": 2
}
